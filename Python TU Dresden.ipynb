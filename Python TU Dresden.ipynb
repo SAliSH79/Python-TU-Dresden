{
 "cells": [
  {
   "cell_type": "markdown",
   "id": "c7d051ac-136d-40a8-8581-c482093bb044",
   "metadata": {},
   "source": [
    "# Python TU Dresden Course"
   ]
  },
  {
   "cell_type": "markdown",
   "id": "440e2a7f-63ed-471c-9358-594f3b9eafad",
   "metadata": {},
   "source": [
    "## Winter 2024-25"
   ]
  },
  {
   "cell_type": "markdown",
   "id": "ef588724-06d4-4e1e-8d73-f481c31d0a6d",
   "metadata": {},
   "source": [
    "## 2nd Session"
   ]
  },
  {
   "cell_type": "code",
   "execution_count": 1,
   "id": "4b793d9e-ba66-4f74-92f8-fbadec2ca106",
   "metadata": {},
   "outputs": [
    {
     "name": "stdout",
     "output_type": "stream",
     "text": [
      "\" A\n"
     ]
    }
   ],
   "source": [
    "print(\"\\\" A\")"
   ]
  },
  {
   "cell_type": "code",
   "execution_count": 28,
   "id": "dca4d639-7ea1-45b6-a1b9-49921ac75994",
   "metadata": {},
   "outputs": [
    {
     "ename": "AssertionError",
     "evalue": "x is not positive, x = -2 < 0",
     "output_type": "error",
     "traceback": [
      "\u001b[0;31m---------------------------------------------------------------------------\u001b[0m",
      "\u001b[0;31mAssertionError\u001b[0m                            Traceback (most recent call last)",
      "Cell \u001b[0;32mIn [28], line 2\u001b[0m\n\u001b[1;32m      1\u001b[0m x \u001b[38;5;241m=\u001b[39m \u001b[38;5;241m-\u001b[39m\u001b[38;5;241m2\u001b[39m\n\u001b[0;32m----> 2\u001b[0m \u001b[38;5;28;01massert\u001b[39;00m \u001b[38;5;28misinstance\u001b[39m(x, (\u001b[38;5;28mint\u001b[39m, \u001b[38;5;28mfloat\u001b[39m)) \u001b[38;5;129;01mand\u001b[39;00m x \u001b[38;5;241m>\u001b[39m \u001b[38;5;241m0\u001b[39m, \u001b[38;5;124mf\u001b[39m\u001b[38;5;124m\"\u001b[39m\u001b[38;5;124mx is not positive, x = \u001b[39m\u001b[38;5;132;01m{\u001b[39;00mx\u001b[38;5;132;01m}\u001b[39;00m\u001b[38;5;124m < 0\u001b[39m\u001b[38;5;124m\"\u001b[39m\n",
      "\u001b[0;31mAssertionError\u001b[0m: x is not positive, x = -2 < 0"
     ]
    }
   ],
   "source": [
    "x = -2\n",
    "assert isinstance(x, (int, float)) and x > 0, f\"x is not positive, x = {x} < 0\""
   ]
  },
  {
   "cell_type": "markdown",
   "id": "dd18b3dc-f2c7-4fad-beaf-d428004f093f",
   "metadata": {},
   "source": [
    "#### Poistional Arbitrary Arguments"
   ]
  },
  {
   "cell_type": "code",
   "execution_count": 50,
   "id": "311ec0d1-189b-4b07-b19c-08e33b26c37b",
   "metadata": {},
   "outputs": [],
   "source": [
    "def mysum(*args, s0 = None): #positional, arbitrary arguments with flag s0\n",
    "    \"\"\"\n",
    "    Add input number, if they are not numbers, place them together\n",
    "    Args:\n",
    "        *args (list, string with s0 = \" \", tuple unpacking, int, float, complex): input\n",
    "    \n",
    "    result:\n",
    "        s (tuple): the output\n",
    "    \"\"\"\n",
    "    \n",
    "    print(type(args)) #tuple\n",
    "    if s0 == None:\n",
    "        s = 0\n",
    "    else:\n",
    "        s = s0\n",
    "    for x in args:\n",
    "        s += x\n",
    "    return s"
   ]
  },
  {
   "cell_type": "code",
   "execution_count": 30,
   "id": "c9387b43-a989-4b9a-b170-a3a261ebbb87",
   "metadata": {},
   "outputs": [
    {
     "name": "stdout",
     "output_type": "stream",
     "text": [
      "<class 'tuple'>\n"
     ]
    },
    {
     "data": {
      "text/plain": [
       "'abcxyz'"
      ]
     },
     "execution_count": 30,
     "metadata": {},
     "output_type": "execute_result"
    }
   ],
   "source": [
    "mysum(\"abc\", \"xyz\", s0 = \"\")"
   ]
  },
  {
   "cell_type": "code",
   "execution_count": 31,
   "id": "58b17ac6-cb18-4977-852f-686ce63beefb",
   "metadata": {},
   "outputs": [
    {
     "name": "stdout",
     "output_type": "stream",
     "text": [
      "<class 'tuple'>\n"
     ]
    },
    {
     "data": {
      "text/plain": [
       "(10.4+4j)"
      ]
     },
     "execution_count": 31,
     "metadata": {},
     "output_type": "execute_result"
    }
   ],
   "source": [
    "numbers = [7, 2, 3.4, -5, 3 + 4j]\n",
    "mysum(*numbers) #if tuple is not unpacked, there will be\n",
    "#unsupported operand type(s) for +=: 'int' and 'list',\n",
    "#passing list [] into s, a single int"
   ]
  },
  {
   "cell_type": "markdown",
   "id": "7b6cbd01-477a-4642-8686-eb7a37756cd2",
   "metadata": {},
   "source": [
    "#### Keywords Arguments"
   ]
  },
  {
   "cell_type": "code",
   "execution_count": 34,
   "id": "a6c6a2fc-0d3b-420b-8219-307deb0d307e",
   "metadata": {},
   "outputs": [],
   "source": [
    "def sentence(**kwargs): #collect all the arguments into a dict\n",
    "    print(type(kwargs))\n",
    "    for key, value in kwargs.items():\n",
    "        print(f\"the key: {key} and assigned value: {value}\")"
   ]
  },
  {
   "cell_type": "code",
   "execution_count": 35,
   "id": "b1906c80-d583-4d16-8c7b-eb7df457c873",
   "metadata": {},
   "outputs": [
    {
     "name": "stdout",
     "output_type": "stream",
     "text": [
      "<class 'dict'>\n",
      "the key: sun and assigned value: Shining\n",
      "the key: Jack and assigned value: Laughing\n"
     ]
    }
   ],
   "source": [
    "sentence(sun = 'Shining', Jack = \"Laughing\")"
   ]
  },
  {
   "cell_type": "code",
   "execution_count": 36,
   "id": "d08ddf04-90bb-4943-8e04-f61180a968a4",
   "metadata": {},
   "outputs": [
    {
     "name": "stdout",
     "output_type": "stream",
     "text": [
      "LICENSE  Python\\ TU\\ Dresden.ipynb  README.md\n"
     ]
    }
   ],
   "source": [
    "!dir"
   ]
  },
  {
   "cell_type": "markdown",
   "id": "f19d9e1a-0590-479a-82e4-18f6145ef4eb",
   "metadata": {},
   "source": [
    "#### function with default arguments"
   ]
  },
  {
   "cell_type": "code",
   "execution_count": 47,
   "id": "ea7dbada-462e-4256-93cf-58649e1aff81",
   "metadata": {},
   "outputs": [],
   "source": [
    "def multiply(z = 8, x = 2.4): \n",
    "    res = z * x\n",
    "    result = complex(round(res.real, 2), round(res.imag,2))\n",
    "    return result"
   ]
  },
  {
   "cell_type": "code",
   "execution_count": 48,
   "id": "7487776e-09e1-420c-9443-9fda91a2418f",
   "metadata": {},
   "outputs": [
    {
     "data": {
      "text/plain": [
       "(6+0j)"
      ]
     },
     "execution_count": 48,
     "metadata": {},
     "output_type": "execute_result"
    }
   ],
   "source": [
    "multiply(2,3)"
   ]
  },
  {
   "cell_type": "code",
   "execution_count": 49,
   "id": "0dfe21a5-b5f3-4447-928a-6b992b50ac18",
   "metadata": {},
   "outputs": [
    {
     "data": {
      "text/plain": [
       "(7.2+9.6j)"
      ]
     },
     "execution_count": 49,
     "metadata": {},
     "output_type": "execute_result"
    }
   ],
   "source": [
    "multiply(3+4j)"
   ]
  },
  {
   "cell_type": "markdown",
   "id": "c5ea5c93-e7b2-43a5-a51b-fdb8589550d9",
   "metadata": {},
   "source": [
    "## 3rd Session"
   ]
  },
  {
   "cell_type": "code",
   "execution_count": null,
   "id": "46b0a880-026f-4817-a9be-9f2475abddb2",
   "metadata": {},
   "outputs": [],
   "source": []
  }
 ],
 "metadata": {
  "kernelspec": {
   "display_name": "Python 3 (ipykernel)",
   "language": "python",
   "name": "python3"
  },
  "language_info": {
   "codemirror_mode": {
    "name": "ipython",
    "version": 3
   },
   "file_extension": ".py",
   "mimetype": "text/x-python",
   "name": "python",
   "nbconvert_exporter": "python",
   "pygments_lexer": "ipython3",
   "version": "3.10.8"
  }
 },
 "nbformat": 4,
 "nbformat_minor": 5
}
